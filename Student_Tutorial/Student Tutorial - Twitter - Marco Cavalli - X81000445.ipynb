{
 "cells": [
  {
   "cell_type": "markdown",
   "metadata": {},
   "source": [
    "# Student Tutorial - Twitter\n",
    "<i>Marco Cavalli - X81000445</i>\n",
    "\n",
    "---\n",
    "\n",
    "## Introduzione\n",
    "<hr>\n",
    "Twitter è un ottimo strumento nelle mani dei data scientist. Questo perchè, tra tutti quanti, è uno dei social media che condivide i propri dati a terzi attraverso le sue API.\n",
    "\n",
    "L'interesse di questo Student Tutorial è approfondire la conoscenza delle API di Twitter, spiegando passo passo come poterle usare per acquisire dati analizzabili. Per utilizzarle useremo la libreria **python-twitter** che è una delle librerie/wrapper delle API di Twitter più complete per il linguaggio Python.\n",
    "\n",
    "Successivamente porteremo degli esempi di tecniche di analisi che possiamo applicare sui dati che avremo acquisito."
   ]
  },
  {
   "cell_type": "markdown",
   "metadata": {},
   "source": [
    "## Passi preliminari\n",
    "\n",
    "<hr>\n",
    "\n",
    "Prima di buttarci a capofitto sulle nozioni del tutorial è bene affrontare due argomenti preliminari:\n",
    "1. Avere accesso alle API di Twitter\n",
    "- Installare i pacchetti fondamentali per eseguire il codice di questo tutorial"
   ]
  },
  {
   "cell_type": "markdown",
   "metadata": {},
   "source": [
    "## 1) Avere accesso alle API di Twitter\n",
    "---\n",
    "\n",
    "Per poter accedere alle API di Twitter avremo bisogno di 4 codici che Twitter stesso forni"
   ]
  }
 ],
 "metadata": {
  "kernelspec": {
   "display_name": "Python 3",
   "language": "python",
   "name": "python3"
  },
  "language_info": {
   "codemirror_mode": {
    "name": "ipython",
    "version": 3
   },
   "file_extension": ".py",
   "mimetype": "text/x-python",
   "name": "python",
   "nbconvert_exporter": "python",
   "pygments_lexer": "ipython3",
   "version": "3.7.0"
  }
 },
 "nbformat": 4,
 "nbformat_minor": 4
}
